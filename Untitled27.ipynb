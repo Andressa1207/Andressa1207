{
  "nbformat": 4,
  "nbformat_minor": 0,
  "metadata": {
    "colab": {
      "provenance": [],
      "authorship_tag": "ABX9TyOb3wljGH2aclEFVsfxSjs7",
      "include_colab_link": true
    },
    "kernelspec": {
      "name": "python3",
      "display_name": "Python 3"
    },
    "language_info": {
      "name": "python"
    }
  },
  "cells": [
    {
      "cell_type": "markdown",
      "metadata": {
        "id": "view-in-github",
        "colab_type": "text"
      },
      "source": [
        "<a href=\"https://colab.research.google.com/github/Andressa1207/Andressa1207/blob/main/Untitled27.ipynb\" target=\"_parent\"><img src=\"https://colab.research.google.com/assets/colab-badge.svg\" alt=\"Open In Colab\"/></a>"
      ]
    },
    {
      "cell_type": "code",
      "execution_count": 1,
      "metadata": {
        "id": "jgkAtcmWqRuE"
      },
      "outputs": [],
      "source": [
        "#importa biblioteca pandas\n",
        "import pandas as pd"
      ]
    },
    {
      "cell_type": "code",
      "source": [
        "# importar o arquivo csv para o Pandas\n",
        "df = pd.read_csv(\"https://raw.githubusercontent.com/carlosfab/curso_data_science_na_pratica/master/modulo_02/BBAS3.SA.csv\")"
      ],
      "metadata": {
        "id": "ZW4QtWUeqebf"
      },
      "execution_count": 2,
      "outputs": []
    },
    {
      "cell_type": "code",
      "source": [
        "from numpy.lib import type_check\n",
        "# ver o tipo da variável df\n",
        "type(df)"
      ],
      "metadata": {
        "colab": {
          "base_uri": "https://localhost:8080/"
        },
        "id": "0kcsbuVPqeY4",
        "outputId": "0b0f9e33-c676-41f3-a1b0-89c920affbf4"
      },
      "execution_count": 4,
      "outputs": [
        {
          "output_type": "execute_result",
          "data": {
            "text/plain": [
              "pandas.core.frame.DataFrame"
            ]
          },
          "metadata": {},
          "execution_count": 4
        }
      ]
    },
    {
      "cell_type": "code",
      "source": [
        "from pandas.core.generic import Type\n",
        "# ver o tipo de uma coluna da variável df\n",
        "type(df['Date'])"
      ],
      "metadata": {
        "colab": {
          "base_uri": "https://localhost:8080/"
        },
        "id": "Z3-bSv9pqeVr",
        "outputId": "1542c16d-4d45-4b4d-9658-139b58e4cc96"
      },
      "execution_count": 6,
      "outputs": [
        {
          "output_type": "execute_result",
          "data": {
            "text/plain": [
              "pandas.core.series.Series"
            ]
          },
          "metadata": {},
          "execution_count": 6
        }
      ]
    },
    {
      "cell_type": "code",
      "source": [
        "# ver o tamanho do dataframe (formato)\n",
        "df.shape"
      ],
      "metadata": {
        "colab": {
          "base_uri": "https://localhost:8080/"
        },
        "id": "Pd2VatQoqeS7",
        "outputId": "06efe2c4-1f63-4f7f-84b4-585a919dde82"
      },
      "execution_count": 7,
      "outputs": [
        {
          "output_type": "execute_result",
          "data": {
            "text/plain": [
              "(246, 7)"
            ]
          },
          "metadata": {},
          "execution_count": 7
        }
      ]
    },
    {
      "cell_type": "code",
      "source": [
        "# mostrar as 5 primeiras entradas do DataFrame\n",
        "df.head(10)"
      ],
      "metadata": {
        "colab": {
          "base_uri": "https://localhost:8080/",
          "height": 363
        },
        "id": "pZ9Y1-rWqePz",
        "outputId": "fd87b6b9-3e38-4536-ec46-560aad3e408d"
      },
      "execution_count": 9,
      "outputs": [
        {
          "output_type": "execute_result",
          "data": {
            "text/plain": [
              "         Date       Open       High        Low      Close  Adj Close    Volume\n",
              "0  2018-09-21  29.730000  30.580000  29.340000  30.580000  28.680056  16301600\n",
              "1  2018-09-24  30.379999  30.700001  29.500000  29.730000  27.882866  13086900\n",
              "2  2018-09-25  29.030001  29.760000  28.809999  29.549999  27.714045  11742900\n",
              "3  2018-09-26  29.650000  29.969999  29.209999  29.450001  27.620264  12842400\n",
              "4  2018-09-27  29.680000  30.299999  29.680000  30.290001  28.408072   8767900\n",
              "5  2018-09-28  29.830000  29.980000  29.299999  29.450001  27.620264  12790900\n",
              "6  2018-10-01  29.549999  29.760000  28.200001  28.209999  26.457306  15677500\n",
              "7  2018-10-02  29.700001  31.559999  29.650000  31.430000  29.477245  32791500\n",
              "8  2018-10-03  35.000000  35.419998  33.330002  34.279999  32.150173  35336300\n",
              "9  2018-10-04  33.680000  35.880001  33.520000  35.119999  32.937988  27920000"
            ],
            "text/html": [
              "\n",
              "  <div id=\"df-1024ce60-7bcf-4406-b5ff-9bc55ade6c08\">\n",
              "    <div class=\"colab-df-container\">\n",
              "      <div>\n",
              "<style scoped>\n",
              "    .dataframe tbody tr th:only-of-type {\n",
              "        vertical-align: middle;\n",
              "    }\n",
              "\n",
              "    .dataframe tbody tr th {\n",
              "        vertical-align: top;\n",
              "    }\n",
              "\n",
              "    .dataframe thead th {\n",
              "        text-align: right;\n",
              "    }\n",
              "</style>\n",
              "<table border=\"1\" class=\"dataframe\">\n",
              "  <thead>\n",
              "    <tr style=\"text-align: right;\">\n",
              "      <th></th>\n",
              "      <th>Date</th>\n",
              "      <th>Open</th>\n",
              "      <th>High</th>\n",
              "      <th>Low</th>\n",
              "      <th>Close</th>\n",
              "      <th>Adj Close</th>\n",
              "      <th>Volume</th>\n",
              "    </tr>\n",
              "  </thead>\n",
              "  <tbody>\n",
              "    <tr>\n",
              "      <th>0</th>\n",
              "      <td>2018-09-21</td>\n",
              "      <td>29.730000</td>\n",
              "      <td>30.580000</td>\n",
              "      <td>29.340000</td>\n",
              "      <td>30.580000</td>\n",
              "      <td>28.680056</td>\n",
              "      <td>16301600</td>\n",
              "    </tr>\n",
              "    <tr>\n",
              "      <th>1</th>\n",
              "      <td>2018-09-24</td>\n",
              "      <td>30.379999</td>\n",
              "      <td>30.700001</td>\n",
              "      <td>29.500000</td>\n",
              "      <td>29.730000</td>\n",
              "      <td>27.882866</td>\n",
              "      <td>13086900</td>\n",
              "    </tr>\n",
              "    <tr>\n",
              "      <th>2</th>\n",
              "      <td>2018-09-25</td>\n",
              "      <td>29.030001</td>\n",
              "      <td>29.760000</td>\n",
              "      <td>28.809999</td>\n",
              "      <td>29.549999</td>\n",
              "      <td>27.714045</td>\n",
              "      <td>11742900</td>\n",
              "    </tr>\n",
              "    <tr>\n",
              "      <th>3</th>\n",
              "      <td>2018-09-26</td>\n",
              "      <td>29.650000</td>\n",
              "      <td>29.969999</td>\n",
              "      <td>29.209999</td>\n",
              "      <td>29.450001</td>\n",
              "      <td>27.620264</td>\n",
              "      <td>12842400</td>\n",
              "    </tr>\n",
              "    <tr>\n",
              "      <th>4</th>\n",
              "      <td>2018-09-27</td>\n",
              "      <td>29.680000</td>\n",
              "      <td>30.299999</td>\n",
              "      <td>29.680000</td>\n",
              "      <td>30.290001</td>\n",
              "      <td>28.408072</td>\n",
              "      <td>8767900</td>\n",
              "    </tr>\n",
              "    <tr>\n",
              "      <th>5</th>\n",
              "      <td>2018-09-28</td>\n",
              "      <td>29.830000</td>\n",
              "      <td>29.980000</td>\n",
              "      <td>29.299999</td>\n",
              "      <td>29.450001</td>\n",
              "      <td>27.620264</td>\n",
              "      <td>12790900</td>\n",
              "    </tr>\n",
              "    <tr>\n",
              "      <th>6</th>\n",
              "      <td>2018-10-01</td>\n",
              "      <td>29.549999</td>\n",
              "      <td>29.760000</td>\n",
              "      <td>28.200001</td>\n",
              "      <td>28.209999</td>\n",
              "      <td>26.457306</td>\n",
              "      <td>15677500</td>\n",
              "    </tr>\n",
              "    <tr>\n",
              "      <th>7</th>\n",
              "      <td>2018-10-02</td>\n",
              "      <td>29.700001</td>\n",
              "      <td>31.559999</td>\n",
              "      <td>29.650000</td>\n",
              "      <td>31.430000</td>\n",
              "      <td>29.477245</td>\n",
              "      <td>32791500</td>\n",
              "    </tr>\n",
              "    <tr>\n",
              "      <th>8</th>\n",
              "      <td>2018-10-03</td>\n",
              "      <td>35.000000</td>\n",
              "      <td>35.419998</td>\n",
              "      <td>33.330002</td>\n",
              "      <td>34.279999</td>\n",
              "      <td>32.150173</td>\n",
              "      <td>35336300</td>\n",
              "    </tr>\n",
              "    <tr>\n",
              "      <th>9</th>\n",
              "      <td>2018-10-04</td>\n",
              "      <td>33.680000</td>\n",
              "      <td>35.880001</td>\n",
              "      <td>33.520000</td>\n",
              "      <td>35.119999</td>\n",
              "      <td>32.937988</td>\n",
              "      <td>27920000</td>\n",
              "    </tr>\n",
              "  </tbody>\n",
              "</table>\n",
              "</div>\n",
              "      <button class=\"colab-df-convert\" onclick=\"convertToInteractive('df-1024ce60-7bcf-4406-b5ff-9bc55ade6c08')\"\n",
              "              title=\"Convert this dataframe to an interactive table.\"\n",
              "              style=\"display:none;\">\n",
              "        \n",
              "  <svg xmlns=\"http://www.w3.org/2000/svg\" height=\"24px\"viewBox=\"0 0 24 24\"\n",
              "       width=\"24px\">\n",
              "    <path d=\"M0 0h24v24H0V0z\" fill=\"none\"/>\n",
              "    <path d=\"M18.56 5.44l.94 2.06.94-2.06 2.06-.94-2.06-.94-.94-2.06-.94 2.06-2.06.94zm-11 1L8.5 8.5l.94-2.06 2.06-.94-2.06-.94L8.5 2.5l-.94 2.06-2.06.94zm10 10l.94 2.06.94-2.06 2.06-.94-2.06-.94-.94-2.06-.94 2.06-2.06.94z\"/><path d=\"M17.41 7.96l-1.37-1.37c-.4-.4-.92-.59-1.43-.59-.52 0-1.04.2-1.43.59L10.3 9.45l-7.72 7.72c-.78.78-.78 2.05 0 2.83L4 21.41c.39.39.9.59 1.41.59.51 0 1.02-.2 1.41-.59l7.78-7.78 2.81-2.81c.8-.78.8-2.07 0-2.86zM5.41 20L4 18.59l7.72-7.72 1.47 1.35L5.41 20z\"/>\n",
              "  </svg>\n",
              "      </button>\n",
              "      \n",
              "  <style>\n",
              "    .colab-df-container {\n",
              "      display:flex;\n",
              "      flex-wrap:wrap;\n",
              "      gap: 12px;\n",
              "    }\n",
              "\n",
              "    .colab-df-convert {\n",
              "      background-color: #E8F0FE;\n",
              "      border: none;\n",
              "      border-radius: 50%;\n",
              "      cursor: pointer;\n",
              "      display: none;\n",
              "      fill: #1967D2;\n",
              "      height: 32px;\n",
              "      padding: 0 0 0 0;\n",
              "      width: 32px;\n",
              "    }\n",
              "\n",
              "    .colab-df-convert:hover {\n",
              "      background-color: #E2EBFA;\n",
              "      box-shadow: 0px 1px 2px rgba(60, 64, 67, 0.3), 0px 1px 3px 1px rgba(60, 64, 67, 0.15);\n",
              "      fill: #174EA6;\n",
              "    }\n",
              "\n",
              "    [theme=dark] .colab-df-convert {\n",
              "      background-color: #3B4455;\n",
              "      fill: #D2E3FC;\n",
              "    }\n",
              "\n",
              "    [theme=dark] .colab-df-convert:hover {\n",
              "      background-color: #434B5C;\n",
              "      box-shadow: 0px 1px 3px 1px rgba(0, 0, 0, 0.15);\n",
              "      filter: drop-shadow(0px 1px 2px rgba(0, 0, 0, 0.3));\n",
              "      fill: #FFFFFF;\n",
              "    }\n",
              "  </style>\n",
              "\n",
              "      <script>\n",
              "        const buttonEl =\n",
              "          document.querySelector('#df-1024ce60-7bcf-4406-b5ff-9bc55ade6c08 button.colab-df-convert');\n",
              "        buttonEl.style.display =\n",
              "          google.colab.kernel.accessAllowed ? 'block' : 'none';\n",
              "\n",
              "        async function convertToInteractive(key) {\n",
              "          const element = document.querySelector('#df-1024ce60-7bcf-4406-b5ff-9bc55ade6c08');\n",
              "          const dataTable =\n",
              "            await google.colab.kernel.invokeFunction('convertToInteractive',\n",
              "                                                     [key], {});\n",
              "          if (!dataTable) return;\n",
              "\n",
              "          const docLinkHtml = 'Like what you see? Visit the ' +\n",
              "            '<a target=\"_blank\" href=https://colab.research.google.com/notebooks/data_table.ipynb>data table notebook</a>'\n",
              "            + ' to learn more about interactive tables.';\n",
              "          element.innerHTML = '';\n",
              "          dataTable['output_type'] = 'display_data';\n",
              "          await google.colab.output.renderOutput(dataTable, element);\n",
              "          const docLink = document.createElement('div');\n",
              "          docLink.innerHTML = docLinkHtml;\n",
              "          element.appendChild(docLink);\n",
              "        }\n",
              "      </script>\n",
              "    </div>\n",
              "  </div>\n",
              "  "
            ]
          },
          "metadata": {},
          "execution_count": 9
        }
      ]
    },
    {
      "cell_type": "code",
      "source": [
        "#ver os nomes das colunas\n",
        "df.columns"
      ],
      "metadata": {
        "colab": {
          "base_uri": "https://localhost:8080/"
        },
        "id": "MtkAPXTZqeMR",
        "outputId": "646bf602-8872-46f5-be17-afe103fe013d"
      },
      "execution_count": 10,
      "outputs": [
        {
          "output_type": "execute_result",
          "data": {
            "text/plain": [
              "Index(['Date', 'Open', 'High', 'Low', 'Close', 'Adj Close', 'Volume'], dtype='object')"
            ]
          },
          "metadata": {},
          "execution_count": 10
        }
      ]
    },
    {
      "cell_type": "code",
      "source": [
        "#conhecer os tipos de variáveis de cada coluna\n",
        "df.dtypes"
      ],
      "metadata": {
        "colab": {
          "base_uri": "https://localhost:8080/"
        },
        "id": "jKiqA_tDqeIs",
        "outputId": "16ebd168-9a93-4a6d-dc8f-195ddf3949d3"
      },
      "execution_count": 11,
      "outputs": [
        {
          "output_type": "execute_result",
          "data": {
            "text/plain": [
              "Date          object\n",
              "Open         float64\n",
              "High         float64\n",
              "Low          float64\n",
              "Close        float64\n",
              "Adj Close    float64\n",
              "Volume         int64\n",
              "dtype: object"
            ]
          },
          "metadata": {},
          "execution_count": 11
        }
      ]
    },
    {
      "cell_type": "code",
      "source": [
        "# outra maneira de conhecer  os tipos de variáveis é através de df.info()\n",
        "df.info()"
      ],
      "metadata": {
        "colab": {
          "base_uri": "https://localhost:8080/"
        },
        "id": "bOhz6v9csa6U",
        "outputId": "ea5b3b38-49d3-4f51-cebc-45268a5299eb"
      },
      "execution_count": 13,
      "outputs": [
        {
          "output_type": "stream",
          "name": "stdout",
          "text": [
            "<class 'pandas.core.frame.DataFrame'>\n",
            "RangeIndex: 246 entries, 0 to 245\n",
            "Data columns (total 7 columns):\n",
            " #   Column     Non-Null Count  Dtype  \n",
            "---  ------     --------------  -----  \n",
            " 0   Date       246 non-null    object \n",
            " 1   Open       246 non-null    float64\n",
            " 2   High       246 non-null    float64\n",
            " 3   Low        246 non-null    float64\n",
            " 4   Close      246 non-null    float64\n",
            " 5   Adj Close  246 non-null    float64\n",
            " 6   Volume     246 non-null    int64  \n",
            "dtypes: float64(5), int64(1), object(1)\n",
            "memory usage: 13.6+ KB\n"
          ]
        }
      ]
    },
    {
      "cell_type": "code",
      "source": [
        "# selecionar a variável (coluna) \"High\" da nossa variável df\n",
        "df['High']"
      ],
      "metadata": {
        "colab": {
          "base_uri": "https://localhost:8080/"
        },
        "id": "Mwy0wn1dsa3P",
        "outputId": "f92afd2a-f40e-4bd3-e147-8437ca991852"
      },
      "execution_count": 14,
      "outputs": [
        {
          "output_type": "execute_result",
          "data": {
            "text/plain": [
              "0      30.580000\n",
              "1      30.700001\n",
              "2      29.760000\n",
              "3      29.969999\n",
              "4      30.299999\n",
              "         ...    \n",
              "241    47.560001\n",
              "242    47.450001\n",
              "243    48.250000\n",
              "244    48.700001\n",
              "245    47.980000\n",
              "Name: High, Length: 246, dtype: float64"
            ]
          },
          "metadata": {},
          "execution_count": 14
        }
      ]
    },
    {
      "cell_type": "code",
      "source": [
        "df.High"
      ],
      "metadata": {
        "colab": {
          "base_uri": "https://localhost:8080/"
        },
        "id": "UZziUhFpsaz2",
        "outputId": "6690ba7b-6007-42f1-8a9d-de71d759e93e"
      },
      "execution_count": 15,
      "outputs": [
        {
          "output_type": "execute_result",
          "data": {
            "text/plain": [
              "0      30.580000\n",
              "1      30.700001\n",
              "2      29.760000\n",
              "3      29.969999\n",
              "4      30.299999\n",
              "         ...    \n",
              "241    47.560001\n",
              "242    47.450001\n",
              "243    48.250000\n",
              "244    48.700001\n",
              "245    47.980000\n",
              "Name: High, Length: 246, dtype: float64"
            ]
          },
          "metadata": {},
          "execution_count": 15
        }
      ]
    },
    {
      "cell_type": "code",
      "source": [
        "# calcular a média da coluna \"High\"\n",
        "df.High.mean()\n",
        "\n"
      ],
      "metadata": {
        "colab": {
          "base_uri": "https://localhost:8080/"
        },
        "id": "4od4P-jdsawW",
        "outputId": "c349f40e-4e85-4ae3-f940-532cf765975d"
      },
      "execution_count": 16,
      "outputs": [
        {
          "output_type": "execute_result",
          "data": {
            "text/plain": [
              "48.152113682926824"
            ]
          },
          "metadata": {},
          "execution_count": 16
        }
      ]
    },
    {
      "cell_type": "code",
      "source": [
        "#Vamos converter a coluna usando pd.to_datetime e informando qual o formato da nossa data.\n",
        "#Antes\n",
        "df.Date"
      ],
      "metadata": {
        "colab": {
          "base_uri": "https://localhost:8080/"
        },
        "id": "13wQc2WNsas8",
        "outputId": "c6fc618c-dc24-4c80-811b-d6bc7b9a253c"
      },
      "execution_count": 17,
      "outputs": [
        {
          "output_type": "execute_result",
          "data": {
            "text/plain": [
              "0      2018-09-21\n",
              "1      2018-09-24\n",
              "2      2018-09-25\n",
              "3      2018-09-26\n",
              "4      2018-09-27\n",
              "          ...    \n",
              "241    2019-09-16\n",
              "242    2019-09-17\n",
              "243    2019-09-18\n",
              "244    2019-09-19\n",
              "245    2019-09-20\n",
              "Name: Date, Length: 246, dtype: object"
            ]
          },
          "metadata": {},
          "execution_count": 17
        }
      ]
    },
    {
      "cell_type": "code",
      "source": [
        "# converter coluna Date em datetime\n",
        "df.Date = pd.to_datetime(df.Date, format = \"%Y-%m-%d\")\n"
      ],
      "metadata": {
        "id": "WRAI5Ja7xAEu"
      },
      "execution_count": 20,
      "outputs": []
    },
    {
      "cell_type": "code",
      "source": [
        "# Depois da formatação \n",
        "df.Date"
      ],
      "metadata": {
        "colab": {
          "base_uri": "https://localhost:8080/"
        },
        "id": "BVuf6qWMxABA",
        "outputId": "9b9bf76f-a51b-41bf-89f2-91e229e669e2"
      },
      "execution_count": 21,
      "outputs": [
        {
          "output_type": "execute_result",
          "data": {
            "text/plain": [
              "0     2018-09-21\n",
              "1     2018-09-24\n",
              "2     2018-09-25\n",
              "3     2018-09-26\n",
              "4     2018-09-27\n",
              "         ...    \n",
              "241   2019-09-16\n",
              "242   2019-09-17\n",
              "243   2019-09-18\n",
              "244   2019-09-19\n",
              "245   2019-09-20\n",
              "Name: Date, Length: 246, dtype: datetime64[ns]"
            ]
          },
          "metadata": {},
          "execution_count": 21
        }
      ]
    },
    {
      "cell_type": "code",
      "source": [
        "#acessar somente o ano \n",
        "df.Date.dt.year"
      ],
      "metadata": {
        "colab": {
          "base_uri": "https://localhost:8080/"
        },
        "id": "hacI3Stxw_8I",
        "outputId": "52399575-fdd5-4914-ac96-89beed50d472"
      },
      "execution_count": 24,
      "outputs": [
        {
          "output_type": "execute_result",
          "data": {
            "text/plain": [
              "0      2018\n",
              "1      2018\n",
              "2      2018\n",
              "3      2018\n",
              "4      2018\n",
              "       ... \n",
              "241    2019\n",
              "242    2019\n",
              "243    2019\n",
              "244    2019\n",
              "245    2019\n",
              "Name: Date, Length: 246, dtype: int64"
            ]
          },
          "metadata": {},
          "execution_count": 24
        }
      ]
    },
    {
      "cell_type": "code",
      "source": [
        "#acessar somente o mês\n",
        "df.Date.dt.month "
      ],
      "metadata": {
        "colab": {
          "base_uri": "https://localhost:8080/"
        },
        "id": "SSnllb9Zw_4P",
        "outputId": "9451b6ec-d6ea-49fa-fbfe-8f45aa1aa933"
      },
      "execution_count": 25,
      "outputs": [
        {
          "output_type": "execute_result",
          "data": {
            "text/plain": [
              "0      9\n",
              "1      9\n",
              "2      9\n",
              "3      9\n",
              "4      9\n",
              "      ..\n",
              "241    9\n",
              "242    9\n",
              "243    9\n",
              "244    9\n",
              "245    9\n",
              "Name: Date, Length: 246, dtype: int64"
            ]
          },
          "metadata": {},
          "execution_count": 25
        }
      ]
    },
    {
      "cell_type": "code",
      "source": [
        "#acessar somente o dia\n",
        "df.Date.dt.day"
      ],
      "metadata": {
        "colab": {
          "base_uri": "https://localhost:8080/"
        },
        "id": "xElvQq8Yw_0n",
        "outputId": "5dc15ac5-9b77-40fe-8af3-e519a0a42d48"
      },
      "execution_count": 26,
      "outputs": [
        {
          "output_type": "execute_result",
          "data": {
            "text/plain": [
              "0      21\n",
              "1      24\n",
              "2      25\n",
              "3      26\n",
              "4      27\n",
              "       ..\n",
              "241    16\n",
              "242    17\n",
              "243    18\n",
              "244    19\n",
              "245    20\n",
              "Name: Date, Length: 246, dtype: int64"
            ]
          },
          "metadata": {},
          "execution_count": 26
        }
      ]
    },
    {
      "cell_type": "code",
      "source": [
        "\n"
      ],
      "metadata": {
        "id": "3gARuo2lw_xt"
      },
      "execution_count": null,
      "outputs": []
    }
  ]
}